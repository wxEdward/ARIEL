{
 "cells": [
  {
   "cell_type": "code",
   "execution_count": 1,
   "metadata": {},
   "outputs": [],
   "source": [
    "import os.path as osp\n",
    "import pickle as pkl\n",
    "\n",
    "import torch\n",
    "import random\n",
    "import numpy as np\n",
    "from torch_geometric.data import InMemoryDataset, Data\n",
    "\n",
    "\n",
    "class SPMotif(InMemoryDataset):\n",
    "    splits = ['train', 'val', 'test']\n",
    "\n",
    "    def __init__(self, root, mode='train', transform=None, pre_transform=None, pre_filter=None):\n",
    "\n",
    "        assert mode in self.splits\n",
    "        self.mode = mode\n",
    "        super(SPMotif, self).__init__(root, transform, pre_transform, pre_filter)\n",
    "\n",
    "        idx = self.processed_file_names.index('SPMotif_{}.pt'.format(mode))\n",
    "        self.data, self.slices = torch.load(self.processed_paths[idx])\n",
    "\n",
    "    @property\n",
    "    def raw_file_names(self):\n",
    "        return ['train.npy', 'val.npy', 'test.npy']\n",
    "\n",
    "    @property\n",
    "    def processed_file_names(self):\n",
    "        return ['SPMotif_train.pt', 'SPMotif_val.pt', 'SPMotif_test.pt']\n",
    "    \n",
    "    def download(self):\n",
    "        if not osp.exists(osp.join(self.raw_dir, 'raw', 'SPMotif_train.npy')):\n",
    "            print(\"raw data of `SPMotif` doesn't exist, please redownload from our github.\")\n",
    "            raise FileNotFoundError\n",
    "\n",
    "    def process(self):\n",
    "        \n",
    "        idx = self.raw_file_names.index('{}.npy'.format(self.mode))\n",
    "        edge_index_list, label_list, ground_truth_list, role_id_list, pos = np.load(osp.join(self.raw_dir, self.raw_file_names[idx]), allow_pickle=True)\n",
    "        data_list = []\n",
    "        for idx, (edge_index, y, ground_truth, z, p) in enumerate(zip(edge_index_list, label_list, ground_truth_list, role_id_list, pos)):\n",
    "            edge_index = torch.from_numpy(edge_index)\n",
    "            edge_index = torch.tensor(edge_index, dtype=torch.long)\n",
    "            node_idx = torch.unique(edge_index)\n",
    "            assert node_idx.max() == node_idx.size(0) - 1\n",
    "            x = torch.zeros(node_idx.size(0), 4)\n",
    "            index = [i for i in range(node_idx.size(0))]\n",
    "            x[index, z] = 1\n",
    "            x = torch.rand((node_idx.size(0), 4))\n",
    "            edge_attr = torch.ones(edge_index.size(1), 1)\n",
    "            y = torch.tensor(y, dtype=torch.long).unsqueeze(dim=0)\n",
    "            data = Data(x=x, y=y, z=z,\n",
    "                        edge_index=edge_index,\n",
    "                        edge_attr=edge_attr,\n",
    "                        pos=p,\n",
    "                        edge_gt_att=torch.LongTensor(ground_truth),\n",
    "                        name=f'SPMotif-{self.mode}-{idx}', idx=idx)\n",
    "\n",
    "            if self.pre_filter is not None and not self.pre_filter(data):\n",
    "                continue\n",
    "            if self.pre_transform is not None:\n",
    "                data = self.pre_transform(data)\n",
    "\n",
    "            data_list.append(data)\n",
    "\n",
    "        idx = self.processed_file_names.index('SPMotif_{}.pt'.format(self.mode))\n",
    "        print(self.processed_paths[idx])\n",
    "        print(len(data_list))\n",
    "        torch.save(self.collate(data_list), self.processed_paths[idx])"
   ]
  },
  {
   "cell_type": "code",
   "execution_count": 2,
   "metadata": {},
   "outputs": [],
   "source": [
    "import copy\n",
    "from torch_geometric.data import DataLoader"
   ]
  },
  {
   "cell_type": "code",
   "execution_count": 7,
   "metadata": {},
   "outputs": [],
   "source": [
    "global_b = '0.333' # Set bias degree here\n",
    "data_dir = 'data/'\n",
    "num_classes = 3\n",
    "batch_size = 32\n",
    "bias = '0.9'"
   ]
  },
  {
   "cell_type": "code",
   "execution_count": 8,
   "metadata": {},
   "outputs": [
    {
     "name": "stderr",
     "output_type": "stream",
     "text": [
      "Processing...\n",
      "/var/folders/rw/cgp4qr893qld6864wtlsz3nm0000gn/T/ipykernel_41517/365505174.py:42: UserWarning: To copy construct from a tensor, it is recommended to use sourceTensor.clone().detach() or sourceTensor.clone().detach().requires_grad_(True), rather than torch.tensor(sourceTensor).\n",
      "  edge_index = torch.tensor(edge_index, dtype=torch.long)\n"
     ]
    },
    {
     "name": "stdout",
     "output_type": "stream",
     "text": [
      "data/SPMotif-0.333/processed/SPMotif_train.pt\n",
      "3000\n"
     ]
    },
    {
     "name": "stderr",
     "output_type": "stream",
     "text": [
      "Done!\n",
      "Processing...\n"
     ]
    },
    {
     "name": "stdout",
     "output_type": "stream",
     "text": [
      "data/SPMotif-0.333/processed/SPMotif_val.pt\n",
      "3000\n"
     ]
    },
    {
     "name": "stderr",
     "output_type": "stream",
     "text": [
      "Done!\n",
      "Processing...\n"
     ]
    },
    {
     "name": "stdout",
     "output_type": "stream",
     "text": [
      "data/SPMotif-0.333/processed/SPMotif_test.pt\n",
      "6000\n"
     ]
    },
    {
     "name": "stderr",
     "output_type": "stream",
     "text": [
      "Done!\n",
      "/Users/zircon/opt/anaconda3/envs/pytorch/lib/python3.9/site-packages/torch_geometric/deprecation.py:13: UserWarning: 'data.DataLoader' is deprecated, use 'loader.DataLoader' instead\n",
      "  warnings.warn(out)\n"
     ]
    }
   ],
   "source": [
    "device = torch.device('cuda' if torch.cuda.is_available() else 'cpu') \n",
    "train_dataset = SPMotif(osp.join(data_dir, f'SPMotif-{global_b}/'), mode='train')\n",
    "val_dataset = SPMotif(osp.join(data_dir, f'SPMotif-{global_b}/'), mode='val')\n",
    "test_dataset = SPMotif(osp.join(data_dir, f'SPMotif-{global_b}/'), mode='test')\n",
    "train_loader = DataLoader(train_dataset, batch_size=batch_size, shuffle=True)\n",
    "val_loader = DataLoader(val_dataset, batch_size=batch_size, shuffle=False)\n",
    "test_loader = DataLoader(test_dataset, batch_size=batch_size, shuffle=False)\n",
    "n_train_data, n_val_data = len(train_dataset), len(val_dataset)\n",
    "n_test_data = float(len(test_dataset))"
   ]
  },
  {
   "cell_type": "code",
   "execution_count": 34,
   "metadata": {},
   "outputs": [
    {
     "data": {
      "text/plain": [
       "<torch_geometric.loader.dataloader.DataLoader at 0x7f8fb80dc160>"
      ]
     },
     "execution_count": 34,
     "metadata": {},
     "output_type": "execute_result"
    }
   ],
   "source": [
    "train_loader"
   ]
  },
  {
   "cell_type": "code",
   "execution_count": 35,
   "metadata": {},
   "outputs": [],
   "source": [
    "for graph in train_loader:\n",
    "    break\n"
   ]
  },
  {
   "cell_type": "code",
   "execution_count": 36,
   "metadata": {},
   "outputs": [
    {
     "data": {
      "text/plain": [
       "DataBatch(x=[605, 4], edge_index=[2, 930], edge_attr=[930, 1], y=[32], pos=[32], z=[32], edge_gt_att=[930], name=[32], idx=[32], batch=[605], ptr=[33])"
      ]
     },
     "execution_count": 36,
     "metadata": {},
     "output_type": "execute_result"
    }
   ],
   "source": [
    "graph"
   ]
  },
  {
   "cell_type": "code",
   "execution_count": 12,
   "metadata": {},
   "outputs": [],
   "source": [
    "def drop_nodes(data):\n",
    "\n",
    "    node_num, _ = data.x.size()\n",
    "    _, edge_num = data.edge_index.size()\n",
    "    drop_num = int(node_num / 10)\n",
    "\n",
    "    idx_drop = np.random.choice(node_num, drop_num, replace=False)\n",
    "    idx_nondrop = [n for n in range(node_num) if not n in idx_drop]\n",
    "    idx_dict = {idx_nondrop[n]:n for n in list(range(node_num - drop_num))}\n",
    "\n",
    "    # data.x = data.x[idx_nondrop]\n",
    "    edge_index = data.edge_index.numpy()\n",
    "\n",
    "    adj = torch.zeros((node_num, node_num))\n",
    "    adj[edge_index[0], edge_index[1]] = 1\n",
    "    adj[idx_drop, :] = 0\n",
    "    adj[:, idx_drop] = 0\n",
    "    edge_index = adj.nonzero().t()\n",
    "\n",
    "    data.edge_index = edge_index\n",
    "\n",
    "    # edge_index = [[idx_dict[edge_index[0, n]], idx_dict[edge_index[1, n]]] for n in range(edge_num) if (not edge_index[0, n] in idx_drop) and (not edge_index[1, n] in idx_drop)]\n",
    "    # edge_index = [[edge_index[0, n], edge_index[1, n]] for n in range(edge_num) if (not edge_index[0, n] in idx_drop) and (not edge_index[1, n] in idx_drop)] + [[n, n] for n in idx_nondrop]\n",
    "    # data.edge_index = torch.tensor(edge_index).transpose_(0, 1)\n",
    "\n",
    "    return data\n",
    "\n",
    "\n",
    "def permute_edges(data):\n",
    "\n",
    "    node_num, _ = data.x.size()\n",
    "    _, edge_num = data.edge_index.size()\n",
    "    permute_num = int(edge_num / 10)\n",
    "\n",
    "    edge_index = data.edge_index.transpose(0, 1).numpy()\n",
    "\n",
    "    idx_add = np.random.choice(node_num, (permute_num, 2))\n",
    "    # idx_add = [[idx_add[0, n], idx_add[1, n]] for n in range(permute_num) if not (idx_add[0, n], idx_add[1, n]) in edge_index]\n",
    "\n",
    "    # edge_index = np.concatenate((np.array([edge_index[n] for n in range(edge_num) if not n in np.random.choice(edge_num, permute_num, replace=False)]), idx_add), axis=0)\n",
    "    # edge_index = np.concatenate((edge_index[np.random.choice(edge_num, edge_num-permute_num, replace=False)], idx_add), axis=0)\n",
    "    edge_index = edge_index[np.random.choice(edge_num, edge_num-permute_num, replace=False)]\n",
    "    # edge_index = [edge_index[n] for n in range(edge_num) if not n in np.random.choice(edge_num, permute_num, replace=False)] + idx_add\n",
    "    data.edge_index = torch.tensor(edge_index).transpose_(0, 1)\n",
    "\n",
    "    return data\n",
    "\n",
    "def subgraph(data):\n",
    "\n",
    "    node_num, _ = data.x.size()\n",
    "    _, edge_num = data.edge_index.size()\n",
    "    sub_num = int(node_num * 0.2)\n",
    "\n",
    "    edge_index = data.edge_index.numpy()\n",
    "\n",
    "    idx_sub = [np.random.randint(node_num, size=1)[0]]\n",
    "    idx_neigh = set([n for n in edge_index[1][edge_index[0]==idx_sub[0]]])\n",
    "\n",
    "    count = 0\n",
    "    while len(idx_sub) <= sub_num:\n",
    "        count = count + 1\n",
    "        if count > node_num:\n",
    "            break\n",
    "        if len(idx_neigh) == 0:\n",
    "            break\n",
    "        sample_node = np.random.choice(list(idx_neigh))\n",
    "        if sample_node in idx_sub:\n",
    "            continue\n",
    "        idx_sub.append(sample_node)\n",
    "        idx_neigh.union(set([n for n in edge_index[1][edge_index[0]==idx_sub[-1]]]))\n",
    "\n",
    "    idx_drop = [n for n in range(node_num) if not n in idx_sub]\n",
    "    idx_nondrop = idx_sub\n",
    "    idx_dict = {idx_nondrop[n]:n for n in list(range(len(idx_nondrop)))}\n",
    "\n",
    "    # data.x = data.x[idx_nondrop]\n",
    "    edge_index = data.edge_index.numpy()\n",
    "\n",
    "    adj = torch.zeros((node_num, node_num))\n",
    "    adj[edge_index[0], edge_index[1]] = 1\n",
    "    adj[idx_drop, :] = 0\n",
    "    adj[:, idx_drop] = 0\n",
    "    edge_index = adj.nonzero().t()\n",
    "\n",
    "    data.edge_index = edge_index\n",
    "\n",
    "    # edge_index = [[idx_dict[edge_index[0, n]], idx_dict[edge_index[1, n]]] for n in range(edge_num) if (not edge_index[0, n] in idx_drop) and (not edge_index[1, n] in idx_drop)]\n",
    "    # edge_index = [[edge_index[0, n], edge_index[1, n]] for n in range(edge_num) if (not edge_index[0, n] in idx_drop) and (not edge_index[1, n] in idx_drop)] + [[n, n] for n in idx_nondrop]\n",
    "    # data.edge_index = torch.tensor(edge_index).transpose_(0, 1)\n",
    "\n",
    "    return data\n",
    "\n",
    "\n",
    "def mask_nodes(data):\n",
    "\n",
    "    node_num, feat_dim = data.x.size()\n",
    "    mask_num = int(node_num / 10)\n",
    "\n",
    "    idx_mask = np.random.choice(node_num, mask_num, replace=False)\n",
    "    data.x[idx_mask] = torch.tensor(np.random.normal(loc=0.5, scale=0.5, size=(mask_num, feat_dim)), dtype=torch.float32)\n",
    "\n",
    "    return data"
   ]
  },
  {
   "cell_type": "code",
   "execution_count": 45,
   "metadata": {},
   "outputs": [
    {
     "data": {
      "text/plain": [
       "DataBatch(x=[605, 4], edge_index=[2, 930], edge_attr=[930, 1], y=[32], pos=[32], z=[32], edge_gt_att=[930], name=[32], idx=[32], batch=[605], ptr=[33])"
      ]
     },
     "execution_count": 45,
     "metadata": {},
     "output_type": "execute_result"
    }
   ],
   "source": [
    "mask_nodes(copy.deepcopy(graph))"
   ]
  },
  {
   "cell_type": "code",
   "execution_count": 46,
   "metadata": {},
   "outputs": [
    {
     "data": {
      "text/plain": [
       "32"
      ]
     },
     "execution_count": 46,
     "metadata": {},
     "output_type": "execute_result"
    }
   ],
   "source": [
    "graph.num_graphs"
   ]
  },
  {
   "cell_type": "code",
   "execution_count": 47,
   "metadata": {},
   "outputs": [],
   "source": [
    "ei = graph.edge_index\n"
   ]
  },
  {
   "cell_type": "code",
   "execution_count": 54,
   "metadata": {},
   "outputs": [],
   "source": [
    "n_node = graph.x.size(0)"
   ]
  },
  {
   "cell_type": "code",
   "execution_count": 55,
   "metadata": {},
   "outputs": [],
   "source": [
    "total_edges = ei.size(1)"
   ]
  },
  {
   "cell_type": "code",
   "execution_count": 63,
   "metadata": {},
   "outputs": [],
   "source": [
    "c = torch.sparse.FloatTensor(ei,torch.ones(total_edges,device='cpu'), torch.Size((n_node, n_node)))"
   ]
  },
  {
   "cell_type": "code",
   "execution_count": 78,
   "metadata": {},
   "outputs": [
    {
     "data": {
      "text/plain": [
       "930"
      ]
     },
     "execution_count": 78,
     "metadata": {},
     "output_type": "execute_result"
    }
   ],
   "source": [
    "total_edges"
   ]
  },
  {
   "cell_type": "code",
   "execution_count": 80,
   "metadata": {},
   "outputs": [],
   "source": [
    "from torch_geometric.utils import to_dense_adj"
   ]
  },
  {
   "cell_type": "code",
   "execution_count": 67,
   "metadata": {},
   "outputs": [],
   "source": [
    "c_ = c.to_dense()"
   ]
  },
  {
   "cell_type": "code",
   "execution_count": 95,
   "metadata": {},
   "outputs": [
    {
     "data": {
      "text/plain": [
       "torch.Size([605, 605])"
      ]
     },
     "execution_count": 95,
     "metadata": {},
     "output_type": "execute_result"
    }
   ],
   "source": [
    "c_.size()"
   ]
  },
  {
   "cell_type": "code",
   "execution_count": 74,
   "metadata": {},
   "outputs": [
    {
     "data": {
      "text/plain": [
       "False"
      ]
     },
     "execution_count": 74,
     "metadata": {},
     "output_type": "execute_result"
    }
   ],
   "source": [
    "torch.equal(c_, c_.transpose(0,1))"
   ]
  },
  {
   "cell_type": "code",
   "execution_count": 81,
   "metadata": {},
   "outputs": [],
   "source": [
    "d_ = to_dense_adj(ei)"
   ]
  },
  {
   "cell_type": "code",
   "execution_count": 85,
   "metadata": {},
   "outputs": [],
   "source": [
    "e = c_ + c_.transpose(0,1)"
   ]
  },
  {
   "cell_type": "code",
   "execution_count": 103,
   "metadata": {},
   "outputs": [
    {
     "data": {
      "text/plain": [
       "True"
      ]
     },
     "execution_count": 103,
     "metadata": {},
     "output_type": "execute_result"
    }
   ],
   "source": [
    "d_.allclose(c_)"
   ]
  },
  {
   "cell_type": "code",
   "execution_count": 100,
   "metadata": {},
   "outputs": [
    {
     "data": {
      "text/plain": [
       "tensor(0)"
      ]
     },
     "execution_count": 100,
     "metadata": {},
     "output_type": "execute_result"
    }
   ],
   "source": [
    "torch.sum(d_ != c_)"
   ]
  },
  {
   "cell_type": "code",
   "execution_count": 93,
   "metadata": {},
   "outputs": [
    {
     "data": {
      "text/plain": [
       "tensor(930.)"
      ]
     },
     "execution_count": 93,
     "metadata": {},
     "output_type": "execute_result"
    }
   ],
   "source": []
  }
 ],
 "metadata": {
  "kernelspec": {
   "display_name": "Python 3 (ipykernel)",
   "language": "python",
   "name": "python3"
  },
  "language_info": {
   "codemirror_mode": {
    "name": "ipython",
    "version": 3
   },
   "file_extension": ".py",
   "mimetype": "text/x-python",
   "name": "python",
   "nbconvert_exporter": "python",
   "pygments_lexer": "ipython3",
   "version": "3.9.7"
  }
 },
 "nbformat": 4,
 "nbformat_minor": 4
}
